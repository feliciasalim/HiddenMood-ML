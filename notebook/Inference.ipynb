{
  "nbformat": 4,
  "nbformat_minor": 0,
  "metadata": {
    "colab": {
      "provenance": []
    },
    "kernelspec": {
      "name": "python3",
      "display_name": "Python 3"
    },
    "language_info": {
      "name": "python"
    }
  },
  "cells": [
    {
      "cell_type": "markdown",
      "source": [
        "# **1. Import Library**"
      ],
      "metadata": {
        "id": "gyPeTmlFK2zx"
      }
    },
    {
      "cell_type": "code",
      "source": [
        "import pickle\n",
        "import numpy as np\n",
        "from tensorflow.keras.models import load_model\n",
        "from tensorflow.keras.preprocessing.sequence import pad_sequences"
      ],
      "metadata": {
        "id": "srFYKjYCK5Tl"
      },
      "execution_count": null,
      "outputs": []
    },
    {
      "cell_type": "markdown",
      "source": [
        "# **2. Inference**"
      ],
      "metadata": {
        "id": "XUSmaBS6K8ac"
      }
    },
    {
      "cell_type": "code",
      "source": [
        "with open('tokenizer.pkl', 'rb') as handle:\n",
        "    tokenizer = pickle.load(handle)\n",
        "\n",
        "model = load_model('LSTM_model.h5')\n",
        "\n",
        "stress_labels = {0: \"Low\", 1: \"Medium\", 2: \"High\"}\n",
        "emotion_labels = {0: \"Anxious\", 1: \"Lonely\", 2: \"Depressed\", 3: \"Overwhelmed\", 4: \"Panicked\"}\n",
        "\n",
        "def preprocess_text(text, tokenizer, maxlen=500):\n",
        "    sequences = tokenizer.texts_to_sequences([text])\n",
        "    padded = pad_sequences(sequences, maxlen=maxlen, padding='post', truncating='post')\n",
        "    return padded\n",
        "\n",
        "def predict(text):\n",
        "    input_seq = preprocess_text(text, tokenizer)\n",
        "    prediction = model.predict(input_seq)\n",
        "\n",
        "    if isinstance(prediction, np.ndarray) and prediction.shape[1] == 8:\n",
        "        stress_pred = np.argmax(prediction[0][:3])\n",
        "        emotion_pred = np.argmax(prediction[0][3:])\n",
        "        return stress_labels[stress_pred], emotion_labels[emotion_pred]\n",
        "\n",
        "    elif isinstance(prediction, list) and len(prediction) == 2:\n",
        "        stress_probs, emotion_probs = prediction\n",
        "        stress_pred = np.argmax(stress_probs[0])\n",
        "        emotion_pred = np.argmax(emotion_probs[0])\n",
        "        return stress_labels[stress_pred], emotion_labels[emotion_pred]\n",
        "\n",
        "    else:\n",
        "        raise ValueError(f\"Unexpected prediction shape: {type(prediction)}, {prediction}\")"
      ],
      "metadata": {
        "colab": {
          "base_uri": "https://localhost:8080/"
        },
        "id": "R_ijmYDgK-4j",
        "outputId": "5ca2e0f4-50bd-4f6e-f787-5ad9bb1d54d7"
      },
      "execution_count": null,
      "outputs": [
        {
          "output_type": "stream",
          "name": "stderr",
          "text": [
            "WARNING:absl:Compiled the loaded model, but the compiled metrics have yet to be built. `model.compile_metrics` will be empty until you train or evaluate the model.\n"
          ]
        }
      ]
    },
    {
      "cell_type": "code",
      "source": [
        "def calculate_stress_level(model, text_input, vectorized_input):\n",
        "    prediction = model.predict(vectorized_input)\n",
        "\n",
        "    if not isinstance(prediction, list) or len(prediction) != 2:\n",
        "        raise ValueError(\"Model must return a list of two arrays: [stress_probs, emotion_probs]\")\n",
        "\n",
        "    stress_probs, _ = prediction\n",
        "    stress_probs = stress_probs[0]\n",
        "\n",
        "    stress_score = stress_probs[0] * 0 + stress_probs[1] * 50 + stress_probs[2] * 100\n",
        "\n",
        "    low_words = {\n",
        "        \"calm\", \"okay\", \"fine\", \"tire\", \"bore\", \"good\", \"sleepy\", \"irritate\",\n",
        "        \"down\", \"unmotivate\", \"lazy\", \"dull\", \"frustrate\", \"annoy\", \"slightly\", \"upset\",\n",
        "        \"restless\", \"uneasy\", \"discontent\", \"displease\"\n",
        "    }\n",
        "\n",
        "    med_words = {\n",
        "        \"worry\", \"anxious\", \"exhaust\", \"fatigue\", \"sadness\", \"disgust\", \"disappoint\",\n",
        "        \"miserable\", \"numb\", \"scare\", \"terrify\", \"stress\", \"anxiety\", \"cry\", \"helpless\",\n",
        "        \"lose\", \"motivation\", \"sleep\", \"overstress\", \"pressure\", \"trigger\", \"overwhelm\",\n",
        "        \"tense\", \"fearful\", \"panic\", \"unsettle\", \"concern\", \"distress\", \"worried\", \"cant breathe\"\n",
        "    }\n",
        "\n",
        "    high_words = {\n",
        "        \"worthless\", \"suicide\", \"die\", \"depress\", \"depression\", \"isolate\", \"panic\",\n",
        "        \"breakdown\", \"suffer\", \"despair\", \"hopeless\", \"gaslight\", \"abuse\", \"self\",\n",
        "        \"harm\", \"kill\", \"sick\", \"ugly\", \"insecure\", \"insecurity\", \"grief\", \"disorder\",\n",
        "        \"assault\", \"guilt\", \"paranoia\", \"nightmare\", \"reject\", \"miserable\",\n",
        "        \"traumatize\", \"ptsd\", \"psychotic\", \"homicidal\", \"suicidal\", \"delusional\",\n",
        "        \"cripple\", \"break\", \"victimize\", \"devastate\", \"abandon\"\n",
        "    }\n",
        "\n",
        "    def word_based_score(text):\n",
        "        words = set(text.lower().split())\n",
        "        low_count = len(words & low_words)\n",
        "        med_count = len(words & med_words)\n",
        "        high_count = len(words & high_words)\n",
        "        total = low_count + med_count + high_count\n",
        "        if total == 0:\n",
        "            return 0\n",
        "        return (high_count * 100 + med_count * 50 + low_count * 0) / total\n",
        "\n",
        "    combined_score = 0.8 * stress_score + 0.2 * word_based_score(text_input)\n",
        "    return round(combined_score, 2)\n"
      ],
      "metadata": {
        "id": "BApBqMcGVFuH"
      },
      "execution_count": null,
      "outputs": []
    },
    {
      "cell_type": "markdown",
      "source": [
        "## Inference Test #1"
      ],
      "metadata": {
        "id": "7gIOw3sNP8zT"
      }
    },
    {
      "cell_type": "code",
      "source": [
        "input_story = \"long post im sorry mom relationship always issue highlight fly monkey demand dollars month marry literally like dollars max time call high andor drink forgive steal son leave alone could literally hear adult daughter background year marry offer sister free car grandparents give us old one still break call talk much neglect month literally talk day speak two weeks time try pressure interact tictok initially take answer even point overbearingness literally chase another app forgive set boundaries even though would get real mad every time say talk things calmly neglectful put hubs raise sister also take care understand complex feelings try get go therapy multiple time incidents badly impact relationship already rocky due stuff break point incident havent able get past pressure move full time actually offer move fulltime care desperately need mental physically issue stress never return school next year table vehemently refuse stress mean wont able years agree well guess get clinical psych phd program arent aware things like full time job people can not work program im breadwinner basically two full time job part time job squirrel away case quit fulltime job due burnout add two months program start date spinal surgery caretaker month program hubby still isnt allow drive mom say fell wont go doc drive hour half take er sunday stay hours leave sister come minutes home turn around get threaten suicide discharge get different er get commit geriatric inpatient unit finally get home get work next day im also autistic adjust change overwhelm point im beyond tap plan take week school start months burnout set go back work week inpatient unit call demand take get spend seven days run around deal house two days hubs big talk absolutely could stay long term us reason week start school move repeatedly pressure sob beg understand cant shes us months need fulltime care need put mediwhatever need find fulltime place take hell due inpatient stay due threats selfharm fun fact fullblown catatonic episode last weeks closest years experience hubs go survival mode time would luck talk brick wall go home hub like hell let loose middle mugshots insist talk wasnt snap back normal trip drop justify action never whisperyelled much life worst justification fact basically gamble lose momfamily meus decide gamble meus course prioritize abusive neglectful family wife emotionally financially physically support last eight years family ever nearly fourty years conversation break break us felt love leave use fullbody experience im barely get ankles wet still listen first time ever could tell close break finally agree therapy us start marriage therapy know hes kill work set boundaries mil family growth last months hes entire adulthood tell doesnt matter fundamentally break relationship hes everything right doesnt matter say sweetest things much love us lie say cause want true lot time fight back feelings hate actually come back want really therapy therapy marriage therapy arent cut moments love still deminished like cant make get past take upset complaints cause know screw months since break conversation happen theres barely improvement time lose close family member hes gear another spinal surgery much timeenergy give salvage therapist hopeful im sure\"\n",
        "input_seq = preprocess_text(input_story, tokenizer)\n",
        "\n",
        "stress, emotion = predict(input_story)\n",
        "print(f\"Predicted Stress Level: {stress}\")\n",
        "print(f\"Predicted Emotion Label: {emotion}\")\n",
        "\n",
        "stress_level = calculate_stress_level(model, input_story, input_seq)\n",
        "print(f\"Calculated Stress Level (0–100): {stress_level}\")\n"
      ],
      "metadata": {
        "id": "WzstXdviNZGV",
        "colab": {
          "base_uri": "https://localhost:8080/"
        },
        "outputId": "2b8b3e3c-5797-4aa5-94d6-43cca226dd59"
      },
      "execution_count": null,
      "outputs": [
        {
          "output_type": "stream",
          "name": "stdout",
          "text": [
            "\u001b[1m1/1\u001b[0m \u001b[32m━━━━━━━━━━━━━━━━━━━━\u001b[0m\u001b[37m\u001b[0m \u001b[1m0s\u001b[0m 205ms/step\n",
            "Predicted Stress Level: High\n",
            "Predicted Emotion Label: Overwhelmed\n",
            "\u001b[1m1/1\u001b[0m \u001b[32m━━━━━━━━━━━━━━━━━━━━\u001b[0m\u001b[37m\u001b[0m \u001b[1m0s\u001b[0m 319ms/step\n",
            "Calculated Stress Level (0–100): 92.47000122070312\n"
          ]
        }
      ]
    },
    {
      "cell_type": "markdown",
      "source": [
        "## Inference Test #2"
      ],
      "metadata": {
        "id": "Fe9ljYVLRlqF"
      }
    },
    {
      "cell_type": "code",
      "source": [
        "input_story = \"I have many problems in my life, but I don’t have anyone to confide in. All these problems piling up inside me are making me so stressed that I feel like I want to end my life.\"\n",
        "input_seq = preprocess_text(input_story, tokenizer)\n",
        "\n",
        "stress, emotion = predict(input_story)\n",
        "print(f\"Predicted Stress Level: {stress}\")\n",
        "print(f\"Predicted Emotion Label: {emotion}\")\n",
        "\n",
        "stress_level = calculate_stress_level(model, input_story, input_seq)\n",
        "print(f\"Calculated Stress Level (0–100): {stress_level}\")"
      ],
      "metadata": {
        "colab": {
          "base_uri": "https://localhost:8080/"
        },
        "id": "rrQM0jD1Pdxl",
        "outputId": "9ce75ee9-3ef1-4e18-a537-46e25f04b57c"
      },
      "execution_count": null,
      "outputs": [
        {
          "output_type": "stream",
          "name": "stdout",
          "text": [
            "\u001b[1m1/1\u001b[0m \u001b[32m━━━━━━━━━━━━━━━━━━━━\u001b[0m\u001b[37m\u001b[0m \u001b[1m0s\u001b[0m 197ms/step\n",
            "Predicted Stress Level: Medium\n",
            "Predicted Emotion Label: Lonely\n",
            "\u001b[1m1/1\u001b[0m \u001b[32m━━━━━━━━━━━━━━━━━━━━\u001b[0m\u001b[37m\u001b[0m \u001b[1m0s\u001b[0m 227ms/step\n",
            "Calculated Stress Level (0–100): 40.13999938964844\n"
          ]
        }
      ]
    },
    {
      "cell_type": "markdown",
      "source": [
        "## Inference Test #3"
      ],
      "metadata": {
        "id": "DeUcli54Salw"
      }
    },
    {
      "cell_type": "code",
      "source": [
        "input_story = \"I've broke up with my girlfriend, and i just need someone to talk right now\"\n",
        "input_seq = preprocess_text(input_story, tokenizer)\n",
        "\n",
        "stress, emotion = predict(input_story)\n",
        "print(f\"Predicted Stress Level: {stress}\")\n",
        "print(f\"Predicted Emotion Label: {emotion}\")\n",
        "\n",
        "stress_level = calculate_stress_level(model, input_story, input_seq)\n",
        "print(f\"Calculated Stress Level (0–100): {stress_level}\")"
      ],
      "metadata": {
        "colab": {
          "base_uri": "https://localhost:8080/"
        },
        "id": "p-xSdUXhSdVj",
        "outputId": "dd36c3db-3e31-4ea6-cb13-52bd50f23880"
      },
      "execution_count": null,
      "outputs": [
        {
          "output_type": "stream",
          "name": "stdout",
          "text": [
            "\u001b[1m1/1\u001b[0m \u001b[32m━━━━━━━━━━━━━━━━━━━━\u001b[0m\u001b[37m\u001b[0m \u001b[1m0s\u001b[0m 226ms/step\n",
            "Predicted Stress Level: Low\n",
            "Predicted Emotion Label: Lonely\n",
            "\u001b[1m1/1\u001b[0m \u001b[32m━━━━━━━━━━━━━━━━━━━━\u001b[0m\u001b[37m\u001b[0m \u001b[1m0s\u001b[0m 224ms/step\n",
            "Calculated Stress Level (0–100): 2.4000000953674316\n"
          ]
        }
      ]
    },
    {
      "cell_type": "markdown",
      "source": [
        "## Inference #4"
      ],
      "metadata": {
        "id": "GssTMlfxbWnd"
      }
    },
    {
      "cell_type": "code",
      "source": [
        "input_story = \"I failed all of my exams this semester, and I've scared that my parrents will be mad at me becuase of this\"\n",
        "input_seq = preprocess_text(input_story, tokenizer)\n",
        "\n",
        "stress, emotion = predict(input_story)\n",
        "print(f\"Predicted Stress Level: {stress}\")\n",
        "print(f\"Predicted Emotion Label: {emotion}\")\n",
        "\n",
        "stress_level = calculate_stress_level(model, input_story, input_seq)\n",
        "print(f\"Calculated Stress Level (0–100): {stress_level}\")"
      ],
      "metadata": {
        "colab": {
          "base_uri": "https://localhost:8080/"
        },
        "id": "51wDq7tCX_B4",
        "outputId": "1751cf33-7ce4-4246-f885-9b6d36eb797a"
      },
      "execution_count": null,
      "outputs": [
        {
          "output_type": "stream",
          "name": "stdout",
          "text": [
            "\u001b[1m1/1\u001b[0m \u001b[32m━━━━━━━━━━━━━━━━━━━━\u001b[0m\u001b[37m\u001b[0m \u001b[1m0s\u001b[0m 198ms/step\n",
            "Predicted Stress Level: Medium\n",
            "Predicted Emotion Label: Overwhelmed\n",
            "\u001b[1m1/1\u001b[0m \u001b[32m━━━━━━━━━━━━━━━━━━━━\u001b[0m\u001b[37m\u001b[0m \u001b[1m0s\u001b[0m 200ms/step\n",
            "Calculated Stress Level (0–100): 39.970001220703125\n"
          ]
        }
      ]
    },
    {
      "cell_type": "code",
      "source": [
        "input_story = \"Every time I open social media, I feel this strange sense of fear, like something bad is waiting for me, even though I don't know what it is. It's this constant anxiety, like I'm about to see something that will ruin my mood or trigger thoughts I wasn’t prepared to face. Sometimes it’s fear of judgment, sometimes it’s just a vague unease, but it’s always there—lingering the moment I scroll.\"\n",
        "input_seq = preprocess_text(input_story, tokenizer)\n",
        "\n",
        "stress, emotion = predict(input_story)\n",
        "print(f\"Predicted Stress Level: {stress}\")\n",
        "print(f\"Predicted Emotion Label: {emotion}\")\n",
        "\n",
        "stress_level = calculate_stress_level(model, input_story, input_seq)\n",
        "print(f\"Calculated Stress Level (0–100): {stress_level}\")"
      ],
      "metadata": {
        "colab": {
          "base_uri": "https://localhost:8080/"
        },
        "id": "0F80x68waP6C",
        "outputId": "ef264375-214f-4275-9f3f-c1a17edfb68a"
      },
      "execution_count": null,
      "outputs": [
        {
          "output_type": "stream",
          "name": "stdout",
          "text": [
            "\u001b[1m1/1\u001b[0m \u001b[32m━━━━━━━━━━━━━━━━━━━━\u001b[0m\u001b[37m\u001b[0m \u001b[1m0s\u001b[0m 215ms/step\n",
            "Predicted Stress Level: Medium\n",
            "Predicted Emotion Label: Lonely\n",
            "\u001b[1m1/1\u001b[0m \u001b[32m━━━━━━━━━━━━━━━━━━━━\u001b[0m\u001b[37m\u001b[0m \u001b[1m0s\u001b[0m 206ms/step\n",
            "Calculated Stress Level (0–100): 50.38999938964844\n"
          ]
        }
      ]
    }
  ]
}